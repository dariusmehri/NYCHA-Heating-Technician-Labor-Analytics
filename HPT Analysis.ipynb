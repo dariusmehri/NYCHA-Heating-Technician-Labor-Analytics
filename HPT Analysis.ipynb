{
 "cells": [
  {
   "cell_type": "markdown",
   "id": "2509bb6f",
   "metadata": {},
   "source": [
    "### Work Orders"
   ]
  },
  {
   "cell_type": "code",
   "execution_count": null,
   "id": "0a3f8c82",
   "metadata": {},
   "outputs": [],
   "source": [
    "import datetime\n",
    "print (str(datetime.datetime.today() ) )\n",
    "\n",
    "import pandas as pd\n",
    "\n",
    "import numpy as np\n",
    "\n",
    "path = \"\"\n",
    "\n",
    "#df = pd.read_csv(path + \"Heating_Work_Orders.csv\", low_memory=False)"
   ]
  },
  {
   "cell_type": "markdown",
   "id": "02e3d04f",
   "metadata": {},
   "source": [
    "Direct Connect to Maximo"
   ]
  },
  {
   "cell_type": "code",
   "execution_count": null,
   "id": "3ab213aa",
   "metadata": {},
   "outputs": [],
   "source": [
    "import datetime\n",
    "print (str(datetime.datetime.today() ) )\n",
    "\n",
    "\n",
    "print (\"Import packages\")\n",
    "#pip install cx_Oracle\n",
    "#pip install sqlalcheny\n",
    "#Download Oracle- https://www.oracle.com/database/technologies/instant-client/downloads.html\n",
    "#Connect to cx_Oracle and import packages\n",
    "import cx_Oracle\n",
    "\n",
    "#create path to downloaded oracle files and initiate\n",
    "cx_Oracle.init_oracle_client(lib_dir=r\"C:\\Oracle\\instantclient_21_9\")\n",
    "\n",
    "import sqlalchemy\n",
    "from sqlalchemy.schema import CreateIndex\n",
    "from sqlalchemy import Table, Column, Integer, Numeric,String, ForeignKey\n",
    "from sqlalchemy import MetaData\n",
    "from sqlalchemy import insert\n",
    "metadata= MetaData()\n",
    "\n",
    "from sqlalchemy.engine import create_engine\n",
    "\n",
    "\n",
    "print (\"DONE\")"
   ]
  },
  {
   "cell_type": "markdown",
   "id": "29704cc6",
   "metadata": {},
   "source": [
    "### 22-23 Season Current"
   ]
  },
  {
   "cell_type": "code",
   "execution_count": null,
   "id": "32e39986",
   "metadata": {},
   "outputs": [],
   "source": [
    "import datetime\n",
    "print (str(datetime.datetime.today()) )\n",
    "\n",
    "\n",
    "print (\"Import work orders\")\n",
    "import time\n",
    "start = time.time()\n",
    "\n",
    "\n",
    "DIALECT = 'oracle'\n",
    "SQL_DRIVER = 'cx_oracle'\n",
    "USERNAME = '' #enter your username\n",
    "PASSWORD = '' #enter your password\n",
    "#HOST = 'exadm1-scan' #enter the oracle db host url\n",
    "HOST = '' #enter the oracle db host url\n",
    "\n",
    "PORT = 1521 # enter the oracle port number\n",
    "SERVICE = 'maxdb' # enter the oracle db service name\n",
    "ENGINE_PATH = DIALECT + '+' + SQL_DRIVER + '://' + USERNAME + ':' + PASSWORD +'@' + HOST + ':' + str(PORT) + '/?service_name=' + SERVICE\n",
    "\n",
    "engine = create_engine(ENGINE_PATH)\n",
    "\n",
    "import pandas as pd\n",
    "\n",
    "\n",
    "workorder_query = \"\"\"\n",
    "\n",
    "select max_wo.worktype,\n",
    "       max_wo.problemcode,\n",
    "       max_wo.failurecode,\n",
    "       max_wo.wonum,\n",
    "       max_wo.parent,\n",
    "       TRUNC(max_wo.reportdate) AS Report_Date,\n",
    "       max_wo.status,\n",
    "       TRUNC(max_wo.statusdate) AS Status_Date,\n",
    "       max_wo.location,\n",
    "       max_wo.haschildren,\n",
    "       max_wo.OWNERGROUP,\n",
    "       max_wo.ZZSQFEET,\n",
    "       max_wo.ZZSUBWORKTYPE,\n",
    "       max_wo.ZZCRAFT,               \n",
    "       max_wo.ZZLEADPOSSIBLE,        \n",
    "       max_wo.ZZRRPWORKREQUIRED,\n",
    "       max_wo.ZZAPTTEMPREAD,\n",
    "       max_wo.ZZWATTEMPREAD,\n",
    "       max_wo.ZZTEMP,\n",
    "       max_wo.ZZTEMPAPP\n",
    "       \n",
    "from Maximo.workorder max_wo\n",
    "\n",
    "--WHERE TRUNC(max_wo.reportdate) >= sysdate - interval '1' year AND max_wo.status != 'CAN'AND max_wo.zzcraft = 'HPT'\n",
    "\n",
    "--WHERE max_wo.reportdate >= '01-OCT-2021' AND max_wo.status != 'CAN'AND max_wo.zzcraft = 'HPT'\n",
    "\n",
    "WHERE (max_wo.reportdate >= '01-OCT-2022' AND max_wo.reportdate <= '01-MAY-2023')  AND max_wo.status != 'CAN'AND max_wo.zzcraft = 'HPT'\n",
    "\n",
    "\n",
    "\"\"\"\n",
    "\n",
    "df1 = pd.read_sql_query(workorder_query, engine)\n",
    "\n",
    "print (len(df1))\n",
    "\n",
    "print (\"DONE\")"
   ]
  },
  {
   "cell_type": "code",
   "execution_count": null,
   "id": "1e57155d",
   "metadata": {},
   "outputs": [],
   "source": [
    "df1.shape"
   ]
  },
  {
   "cell_type": "markdown",
   "id": "4094c1aa",
   "metadata": {},
   "source": [
    "### 21-22 Season"
   ]
  },
  {
   "cell_type": "code",
   "execution_count": null,
   "id": "b49e68b5",
   "metadata": {},
   "outputs": [],
   "source": [
    "import datetime\n",
    "print (str(datetime.datetime.today()) )\n",
    "\n",
    "\n",
    "print (\"Import work orders\")\n",
    "import time\n",
    "start = time.time()\n",
    "\n",
    "\n",
    "DIALECT = 'oracle'\n",
    "SQL_DRIVER = 'cx_oracle'\n",
    "USERNAME = '' #enter your username\n",
    "PASSWORD = '' #enter your password\n",
    "#HOST = 'exadm1-scan' #enter the oracle db host url\n",
    "HOST = '' #enter the oracle db host url\n",
    "\n",
    "PORT = 1521 # enter the oracle port number\n",
    "SERVICE = 'maxdb' # enter the oracle db service name\n",
    "ENGINE_PATH = DIALECT + '+' + SQL_DRIVER + '://' + USERNAME + ':' + PASSWORD +'@' + HOST + ':' + str(PORT) + '/?service_name=' + SERVICE\n",
    "\n",
    "engine = create_engine(ENGINE_PATH)\n",
    "\n",
    "import pandas as pd\n",
    "\n",
    "\n",
    "workorder_query = \"\"\"\n",
    "\n",
    "select max_wo.worktype,\n",
    "       max_wo.problemcode,\n",
    "       max_wo.failurecode,\n",
    "       max_wo.wonum,\n",
    "       max_wo.parent,\n",
    "       TRUNC(max_wo.reportdate) AS Report_Date,\n",
    "       max_wo.status,\n",
    "       TRUNC(max_wo.statusdate) AS Status_Date,\n",
    "       max_wo.location,\n",
    "       max_wo.haschildren,\n",
    "       max_wo.WORKTYPE,\n",
    "       max_wo.OWNERGROUP,\n",
    "       max_wo.ZZSQFEET,\n",
    "       max_wo.ZZSUBWORKTYPE,\n",
    "       max_wo.ZZCRAFT,               \n",
    "       max_wo.ZZLEADPOSSIBLE,        \n",
    "       max_wo.ZZRRPWORKREQUIRED,\n",
    "       max_wo.ZZAPTTEMPREAD,\n",
    "       max_wo.ZZWATTEMPREAD,\n",
    "       max_wo.ZZTEMP,\n",
    "       max_wo.ZZTEMPAPP\n",
    "       \n",
    "from Maximo.workorder max_wo\n",
    "\n",
    "--WHERE TRUNC(max_wo.reportdate) >= sysdate - interval '1' year AND max_wo.status != 'CAN'AND max_wo.zzcraft = 'HPT'\n",
    "\n",
    "--WHERE max_wo.reportdate >= '01-OCT-2021' AND max_wo.status != 'CAN'AND max_wo.zzcraft = 'HPT'\n",
    "\n",
    "WHERE (max_wo.reportdate >= '01-OCT-2021' AND max_wo.reportdate <= '01-MAY-2022')  AND max_wo.status != 'CAN'AND max_wo.zzcraft = 'HPT'\n",
    "\n",
    "\n",
    "\"\"\"\n",
    "\n",
    "#df2 = pd.read_sql_query(workorder_query, engine)\n",
    "#print (len(df2))\n",
    "\n",
    "print (\"DONE\")"
   ]
  },
  {
   "cell_type": "code",
   "execution_count": null,
   "id": "871530b2",
   "metadata": {},
   "outputs": [],
   "source": [
    "#df2.to_csv(path + \"Work Orders 21-22 Season.csv\", index=False)"
   ]
  },
  {
   "cell_type": "markdown",
   "id": "ef0f726b",
   "metadata": {},
   "source": [
    "### 20-21 Season"
   ]
  },
  {
   "cell_type": "code",
   "execution_count": null,
   "id": "06962c33",
   "metadata": {},
   "outputs": [],
   "source": [
    "import datetime\n",
    "print (str(datetime.datetime.today()) )\n",
    "\n",
    "\n",
    "print (\"Import work orders\")\n",
    "import time\n",
    "start = time.time()\n",
    "\n",
    "\n",
    "DIALECT = 'oracle'\n",
    "SQL_DRIVER = 'cx_oracle'\n",
    "USERNAME = '' #enter your username\n",
    "PASSWORD = '' #enter your password\n",
    "#HOST = 'exadm1-scan' #enter the oracle db host url\n",
    "HOST = '' #enter the oracle db host url\n",
    "\n",
    "PORT = 1521 # enter the oracle port number\n",
    "SERVICE = 'maxdb' # enter the oracle db service name\n",
    "ENGINE_PATH = DIALECT + '+' + SQL_DRIVER + '://' + USERNAME + ':' + PASSWORD +'@' + HOST + ':' + str(PORT) + '/?service_name=' + SERVICE\n",
    "\n",
    "engine = create_engine(ENGINE_PATH)\n",
    "\n",
    "import pandas as pd\n",
    "\n",
    "\n",
    "workorder_query = \"\"\"\n",
    "\n",
    "select max_wo.worktype,\n",
    "       max_wo.problemcode,\n",
    "       max_wo.failurecode,\n",
    "       max_wo.wonum,\n",
    "       max_wo.parent,\n",
    "       TRUNC(max_wo.reportdate) AS Report_Date,\n",
    "       max_wo.status,\n",
    "       TRUNC(max_wo.statusdate) AS Status_Date,\n",
    "       max_wo.location,\n",
    "       max_wo.haschildren,\n",
    "       max_wo.WORKTYPE,\n",
    "       max_wo.OWNERGROUP,\n",
    "       max_wo.ZZSQFEET,\n",
    "       max_wo.ZZSUBWORKTYPE,\n",
    "       max_wo.ZZCRAFT,               \n",
    "       max_wo.ZZLEADPOSSIBLE,        \n",
    "       max_wo.ZZRRPWORKREQUIRED,\n",
    "       max_wo.ZZAPTTEMPREAD,\n",
    "       max_wo.ZZWATTEMPREAD,\n",
    "       max_wo.ZZTEMP,\n",
    "       max_wo.ZZTEMPAPP\n",
    "       \n",
    "from Maximo.workorder max_wo\n",
    "\n",
    "--WHERE TRUNC(max_wo.reportdate) >= sysdate - interval '1' year AND max_wo.status != 'CAN'AND max_wo.zzcraft = 'HPT'\n",
    "\n",
    "--WHERE max_wo.reportdate >= '01-OCT-2021' AND max_wo.status != 'CAN'AND max_wo.zzcraft = 'HPT'\n",
    "\n",
    "WHERE (max_wo.reportdate >= '01-OCT-2020' AND max_wo.reportdate <= '01-MAY-2021')  AND max_wo.status != 'CAN'AND max_wo.zzcraft = 'HPT'\n",
    "\n",
    "\n",
    "\"\"\"\n",
    "\n",
    "#df3 = pd.read_sql_query(workorder_query, engine)\n",
    "\n",
    "#print (len(df3))\n",
    "\n",
    "\n",
    "print (\"DONE\")"
   ]
  },
  {
   "cell_type": "code",
   "execution_count": null,
   "id": "a157ef01",
   "metadata": {},
   "outputs": [],
   "source": [
    "#df3.to_csv(path + \"Work Orders 20-21 Season.csv\", index=False)"
   ]
  },
  {
   "cell_type": "markdown",
   "id": "d402cbb7",
   "metadata": {},
   "source": [
    "### Read previous season data"
   ]
  },
  {
   "cell_type": "code",
   "execution_count": null,
   "id": "85eae2cd",
   "metadata": {},
   "outputs": [],
   "source": [
    "print (str(datetime.datetime.today()) )\n",
    "\n",
    "df2 = pd.read_csv(path + \"Work Orders 21-22 Season.csv\", low_memory=False)\n",
    "df3 = pd.read_csv(path + \"Work Orders 20-21 Season.csv\", low_memory=False)\n",
    "print (df1.shape)\n",
    "print (df2.shape)\n",
    "print (df3.shape)\n"
   ]
  },
  {
   "cell_type": "markdown",
   "id": "5deb8c0a",
   "metadata": {},
   "source": [
    "### Concate work orders"
   ]
  },
  {
   "cell_type": "code",
   "execution_count": null,
   "id": "06f178dd",
   "metadata": {},
   "outputs": [],
   "source": [
    "print (str(datetime.datetime.today()) )\n",
    "\n",
    "#df2 = pd.read_csv(path + \"Work Orders 21-22 Season.csv\", low_memory=False)\n",
    "#df3 = pd.read_csv(path + \"Work Orders 20-21 Season.csv\", low_memory=False)\n",
    "\n",
    "\n",
    "df1[\"Season\"] = \"2022-2023\"\n",
    "print (df1.shape)\n",
    "df2[\"Season\"] = \"2021-2022\"\n",
    "print (df2.shape)\n",
    "df3[\"Season\"] = \"2020-2021\"\n",
    "print (df3.shape)\n",
    "\n",
    "\n",
    "df1 = df1.reset_index(drop=True)\n",
    "df2 = df2.reset_index(drop=True)\n",
    "df3 = df3.reset_index(drop=True)\n",
    "\n",
    "\n",
    "\n",
    "frames = [df1, df2, df3]\n",
    "\n",
    "df = pd.concat(frames, axis=0).reset_index(drop=True)\n",
    "\n",
    "print (df.shape)\n",
    "\n",
    "df[\"report_date\"] = pd.to_datetime(df[\"report_date\"])\n",
    "df = df.sort_values(by = 'report_date', ascending=True).reset_index(drop=True)\n",
    "\n"
   ]
  },
  {
   "cell_type": "code",
   "execution_count": null,
   "id": "3278e2e3",
   "metadata": {},
   "outputs": [],
   "source": [
    "#df1[\"report_date\"] = pd.to_datetime(df1[\"report_date\"])\n",
    "#df1 = df1.sort_values(by = 'report_date', ascending=True).reset_index(drop=True)\n",
    "#df1"
   ]
  },
  {
   "cell_type": "code",
   "execution_count": null,
   "id": "f70458c3",
   "metadata": {},
   "outputs": [],
   "source": [
    "#df2[\"report_date\"] = pd.to_datetime(df2[\"report_date\"])\n",
    "#df2 = df2.sort_values(by = 'report_date', ascending=True).reset_index(drop=True)\n",
    "#df2"
   ]
  },
  {
   "cell_type": "code",
   "execution_count": null,
   "id": "6d46618f",
   "metadata": {},
   "outputs": [],
   "source": [
    "#df2.dtypes"
   ]
  },
  {
   "cell_type": "markdown",
   "id": "3a5d72c0",
   "metadata": {},
   "source": [
    "Calculate number of nulls in temperature readings"
   ]
  },
  {
   "cell_type": "code",
   "execution_count": null,
   "id": "993d35be",
   "metadata": {},
   "outputs": [],
   "source": [
    "print (\"Apt temp null percent\")\n",
    "print(\"Total null\", df[\"zzapttempread\"].isnull().sum())\n",
    "print (round(df[\"zzapttempread\"].isnull().sum()/float(len(df)), 2))\n",
    "print()\n",
    "print (\"Water temp null percent\")\n",
    "print(\"Total null\", df[\"zzwattempread\"].isnull().sum())\n",
    "print (round(df[\"zzwattempread\"].isnull().sum()/float(len(df)), 2))"
   ]
  },
  {
   "cell_type": "markdown",
   "id": "16ade8af",
   "metadata": {},
   "source": [
    "Calculate the mode for apartment and water temperature"
   ]
  },
  {
   "cell_type": "code",
   "execution_count": null,
   "id": "ad32931c",
   "metadata": {},
   "outputs": [],
   "source": [
    "print (\"apt temp mean:\", df[\"zzapttempread\"].mean() )\n",
    "print (\"apt temp median:\", df[\"zzapttempread\"].median() )\n",
    "print (\"apt temp standard dev:\", df[\"zzapttempread\"].std() )\n",
    "print (\"apt temp mode:\", df[\"zzapttempread\"].mode() )"
   ]
  },
  {
   "cell_type": "code",
   "execution_count": null,
   "id": "35007ca8",
   "metadata": {},
   "outputs": [],
   "source": [
    "print (\"water temp mean:\", df[\"zzwattempread\"].mean() )\n",
    "print (\"water temp median:\",df[\"zzwattempread\"].median() )\n",
    "print (\"water temp standard dev:\", df[\"zzwattempread\"].std() )\n",
    "print (\"water temp mode:\", df[\"zzwattempread\"].mode() )"
   ]
  },
  {
   "cell_type": "markdown",
   "id": "868349db",
   "metadata": {},
   "source": [
    "### Labor Transactions"
   ]
  },
  {
   "cell_type": "markdown",
   "id": "fa5cba55",
   "metadata": {},
   "source": [
    "Season 22-23"
   ]
  },
  {
   "cell_type": "code",
   "execution_count": null,
   "id": "7b740a6b",
   "metadata": {},
   "outputs": [],
   "source": [
    "#dl = pd.read_csv(path + \"labtransHPT.csv\", low_memory=False)\n",
    "\n",
    "import pandas as pd\n",
    "\n",
    "print (\"Import labor transactions\")\n",
    "\n",
    "import time\n",
    "start = time.time()\n",
    "\n",
    "\n",
    "import datetime\n",
    "print (str(datetime.datetime.today()).split()[0] )\n",
    "\n",
    "\n",
    "#from datetime import datetime\n",
    "#print (start )\n",
    "\n",
    "DIALECT = 'oracle'\n",
    "SQL_DRIVER = 'cx_oracle'\n",
    "USERNAME = '' #enter your username\n",
    "PASSWORD = '' #enter your password\n",
    "#HOST = 'exadm1-scan' #enter the oracle db host url\n",
    "HOST = '' #enter the oracle db host url\n",
    "\n",
    "PORT = 1521 # enter the oracle port number\n",
    "SERVICE = 'maxdb' # enter the oracle db service name\n",
    "ENGINE_PATH = DIALECT + '+' + SQL_DRIVER + '://' + USERNAME + ':' + PASSWORD +'@' + HOST + ':' + str(PORT) + '/?service_name=' + SERVICE\n",
    "\n",
    "engine = create_engine(ENGINE_PATH)\n",
    "\n",
    "\n",
    "labtrans_query = \"\"\"\n",
    "\n",
    "select labtrans.LABORCODE,\n",
    "       labtrans.ENTERDATE,\n",
    "       labtrans.REFWO\n",
    "       \n",
    "from Maximo.labtrans labtrans\n",
    "\n",
    "WHERE (labtrans.enterdate >= '01-OCT-2022' AND labtrans.enterdate <= '01-MAY-2023') AND (labtrans.transtype = 'WORKWITHSEQ' OR labtrans.transtype = 'WORK')\n",
    "\n",
    "\"\"\"\n",
    "\n",
    "\n",
    "#WHERE TRUNC(xrf_det.entrydate) >= sysdate - interval '1' year AND xrf_det.finalclassification = 'Positive' AND xrf_det.side != 'Calibrate' AND xrf_det.side != 'CALIBRATE'\n",
    "\n",
    "\n",
    "dl1 = pd.read_sql_query(labtrans_query, engine)\n",
    "\n",
    "print (len(dl1))\n",
    "\n",
    "print (\"DONE\")\n",
    "\n"
   ]
  },
  {
   "cell_type": "markdown",
   "id": "07abd8b8",
   "metadata": {},
   "source": [
    "Season 21-22"
   ]
  },
  {
   "cell_type": "code",
   "execution_count": null,
   "id": "eeefdb76",
   "metadata": {},
   "outputs": [],
   "source": [
    "#dl = pd.read_csv(path + \"labtransHPT.csv\", low_memory=False)\n",
    "\n",
    "\n",
    "import pandas as pd\n",
    "\n",
    "print (\"Import labor transactions\")\n",
    "\n",
    "import time\n",
    "start = time.time()\n",
    "\n",
    "\n",
    "import datetime\n",
    "print (str(datetime.datetime.today()).split()[0] )\n",
    "\n",
    "\n",
    "#from datetime import datetime\n",
    "#print (start )\n",
    "\n",
    "DIALECT = 'oracle'\n",
    "SQL_DRIVER = 'cx_oracle'\n",
    "USERNAME = '' #enter your username\n",
    "PASSWORD = '' #enter your password\n",
    "#HOST = 'exadm1-scan' #enter the oracle db host url\n",
    "HOST = '' #enter the oracle db host url\n",
    "\n",
    "PORT = 1521 # enter the oracle port number\n",
    "SERVICE = 'maxdb' # enter the oracle db service name\n",
    "ENGINE_PATH = DIALECT + '+' + SQL_DRIVER + '://' + USERNAME + ':' + PASSWORD +'@' + HOST + ':' + str(PORT) + '/?service_name=' + SERVICE\n",
    "\n",
    "engine = create_engine(ENGINE_PATH)\n",
    "\n",
    "\n",
    "labtrans_query = \"\"\"\n",
    "\n",
    "select labtrans.LABORCODE,\n",
    "       labtrans.ENTERDATE,\n",
    "       labtrans.REFWO\n",
    "       \n",
    "from Maximo.labtrans labtrans\n",
    "\n",
    "WHERE (labtrans.enterdate >= '01-OCT-2021' AND labtrans.enterdate <= '01-MAY-2022') AND (labtrans.transtype = 'WORKWITHSEQ' OR labtrans.transtype = 'WORK')\n",
    "\n",
    "\"\"\"\n",
    "\n",
    "\n",
    "#WHERE TRUNC(xrf_det.entrydate) >= sysdate - interval '1' year AND xrf_det.finalclassification = 'Positive' AND xrf_det.side != 'Calibrate' AND xrf_det.side != 'CALIBRATE'\n",
    "\n",
    "\n",
    "dl2 = pd.read_sql_query(labtrans_query, engine)\n",
    "\n",
    "print (len(dl2))\n",
    "\n",
    "print (\"DONE\")\n",
    "\n",
    "\n"
   ]
  },
  {
   "cell_type": "code",
   "execution_count": null,
   "id": "c8825283",
   "metadata": {},
   "outputs": [],
   "source": [
    "dl1['enterdate'] = pd.to_datetime(dl1['enterdate'] )\n",
    "dl1 = dl1.sort_values(by = 'enterdate', ascending=True).reset_index(drop=True)\n",
    "\n",
    "#dl1\n"
   ]
  },
  {
   "cell_type": "markdown",
   "id": "1bbaf02a",
   "metadata": {},
   "source": [
    "Season 20-21"
   ]
  },
  {
   "cell_type": "code",
   "execution_count": null,
   "id": "ecdf1479",
   "metadata": {},
   "outputs": [],
   "source": [
    "import pandas as pd\n",
    "\n",
    "print (\"Import labor transactions\")\n",
    "\n",
    "import time\n",
    "start = time.time()\n",
    "\n",
    "\n",
    "import datetime\n",
    "print (str(datetime.datetime.today()).split()[0] )\n",
    "\n",
    "\n",
    "#from datetime import datetime\n",
    "#print (start )\n",
    "\n",
    "DIALECT = 'oracle'\n",
    "SQL_DRIVER = 'cx_oracle'\n",
    "USERNAME = '' #enter your username\n",
    "PASSWORD = '' #enter your password\n",
    "#HOST = 'exadm1-scan' #enter the oracle db host url\n",
    "HOST = '' #enter the oracle db host url\n",
    "\n",
    "PORT = 1521 # enter the oracle port number\n",
    "SERVICE = 'maxdb' # enter the oracle db service name\n",
    "ENGINE_PATH = DIALECT + '+' + SQL_DRIVER + '://' + USERNAME + ':' + PASSWORD +'@' + HOST + ':' + str(PORT) + '/?service_name=' + SERVICE\n",
    "\n",
    "engine = create_engine(ENGINE_PATH)\n",
    "\n",
    "\n",
    "labtrans_query = \"\"\"\n",
    "\n",
    "select labtrans.LABORCODE,\n",
    "       labtrans.ENTERDATE,\n",
    "       labtrans.REFWO\n",
    "       \n",
    "from Maximo.labtrans labtrans\n",
    "\n",
    "WHERE (labtrans.enterdate >= '01-OCT-2020' AND labtrans.enterdate <= '01-MAY-2021') AND (labtrans.transtype = 'WORKWITHSEQ' OR labtrans.transtype = 'WORK')\n",
    "\n",
    "\"\"\"\n",
    "\n",
    "\n",
    "#WHERE TRUNC(xrf_det.entrydate) >= sysdate - interval '1' year AND xrf_det.finalclassification = 'Positive' AND xrf_det.side != 'Calibrate' AND xrf_det.side != 'CALIBRATE'\n",
    "\n",
    "\n",
    "dl3 = pd.read_sql_query(labtrans_query, engine)\n",
    "\n",
    "print (len(dl3))\n",
    "\n",
    "print (\"DONE\")\n"
   ]
  },
  {
   "cell_type": "code",
   "execution_count": null,
   "id": "2c67bdbc",
   "metadata": {},
   "outputs": [],
   "source": [
    "dl2['enterdate'] = pd.to_datetime(dl2['enterdate'] )\n",
    "dl2 = dl2.sort_values(by = 'enterdate', ascending=True).reset_index(drop=True)\n",
    "#dl2"
   ]
  },
  {
   "cell_type": "code",
   "execution_count": null,
   "id": "0f495cc4",
   "metadata": {},
   "outputs": [],
   "source": [
    "print (str(datetime.datetime.today()).split()[0] )\n",
    "\n",
    "print (dl1.shape)\n",
    "print (dl2.shape)\n",
    "print (dl3.shape)\n",
    "\n",
    "frames = [dl1, dl2, dl3]\n",
    "dl = pd.concat(frames).reset_index(drop=True)\n",
    "\n",
    "print (dl.shape)\n",
    "dl = dl.sort_values(by = 'enterdate', ascending=True).reset_index(drop=True)\n",
    "\n"
   ]
  },
  {
   "cell_type": "code",
   "execution_count": null,
   "id": "52d7a0e1",
   "metadata": {},
   "outputs": [],
   "source": [
    "#dl"
   ]
  },
  {
   "cell_type": "markdown",
   "id": "c327b350",
   "metadata": {},
   "source": [
    "Subset Work Order Dataset"
   ]
  },
  {
   "cell_type": "code",
   "execution_count": null,
   "id": "269ecdab",
   "metadata": {},
   "outputs": [],
   "source": [
    "print (str(datetime.datetime.today()).split()[0] )\n",
    "\n",
    "\n",
    "dl[\"refwo\"] = dl[\"refwo\"].astype(str).map(str.strip)\n",
    "df[\"wonum\"] = df[\"wonum\"].astype(str).map(str.strip)\n",
    "\n",
    "\n",
    "labtransList = sorted(list(set(dl[\"refwo\"].tolist() )))\n",
    "\n",
    "df2 = df[df['wonum'].isin(labtransList)].reset_index(drop=True)\n",
    "\n",
    "print (len(df))\n",
    "print (len(df2))"
   ]
  },
  {
   "cell_type": "code",
   "execution_count": null,
   "id": "924433c3",
   "metadata": {},
   "outputs": [],
   "source": [
    "df2[\"wonum\"][0]"
   ]
  },
  {
   "cell_type": "code",
   "execution_count": null,
   "id": "a3a48c91",
   "metadata": {},
   "outputs": [],
   "source": [
    "dl[\"refwo\"][0]"
   ]
  },
  {
   "cell_type": "code",
   "execution_count": null,
   "id": "371e7bf8",
   "metadata": {},
   "outputs": [],
   "source": [
    "#df2.dtypes"
   ]
  },
  {
   "cell_type": "code",
   "execution_count": null,
   "id": "9d7e47fa",
   "metadata": {},
   "outputs": [],
   "source": [
    "print (\"Apt temp null percent\")\n",
    "print(\"Total null\", df2[\"zzapttempread\"].isnull().sum())\n",
    "print (round(df2[\"zzapttempread\"].isnull().sum()/float(len(df2)), 2))\n",
    "print()\n",
    "print (\"Water temp null percent\")\n",
    "print(\"Total null\", df2[\"zzwattempread\"].isnull().sum())\n",
    "print (round(df2[\"zzwattempread\"].isnull().sum()/float(len(df2)), 2))"
   ]
  },
  {
   "cell_type": "code",
   "execution_count": null,
   "id": "5db854c3",
   "metadata": {},
   "outputs": [],
   "source": [
    "print (\"apt temp mean:\", df2[\"zzapttempread\"].mean() )\n",
    "print (\"apt temp median:\",df2[\"zzapttempread\"].median() )\n",
    "print (\"apt temp standard dev:\", df2[\"zzapttempread\"].std() )\n",
    "print (\"apt temp mode:\", df2[\"zzapttempread\"].mode() )\n",
    "\n",
    "print (\"water temp mean:\", df2[\"zzwattempread\"].mean() )\n",
    "print (\"water temp median:\", df2[\"zzwattempread\"].median() )\n",
    "print (\"water temp standard dev:\", df2[\"zzwattempread\"].std() )\n",
    "print (\"water temp mode:\", df2[\"zzwattempread\"].mode() )"
   ]
  },
  {
   "cell_type": "markdown",
   "id": "c570478e",
   "metadata": {},
   "source": [
    "### Merge person data with labor transactions"
   ]
  },
  {
   "cell_type": "code",
   "execution_count": null,
   "id": "4233af63",
   "metadata": {},
   "outputs": [],
   "source": [
    "#dp = pd.read_csv(path + \"person.csv\", low_memory=False)\n",
    "import pandas as pd\n",
    "\n",
    "print (\"Import person data\")\n",
    "\n",
    "print (str(datetime.datetime.today()) )\n",
    "\n",
    "\n",
    "#from datetime import datetime\n",
    "#print (start )\n",
    "\n",
    "DIALECT = 'oracle'\n",
    "SQL_DRIVER = 'cx_oracle'\n",
    "USERNAME = '' #enter your username\n",
    "PASSWORD = '' #enter your password\n",
    "#HOST = 'exadm1-scan' #enter the oracle db host url\n",
    "HOST = 'v' #enter the oracle db host url\n",
    "\n",
    "PORT = 1521 # enter the oracle port number\n",
    "SERVICE = 'maxdb' # enter the oracle db service name\n",
    "ENGINE_PATH = DIALECT + '+' + SQL_DRIVER + '://' + USERNAME + ':' + PASSWORD +'@' + HOST + ':' + str(PORT) + '/?service_name=' + SERVICE\n",
    "\n",
    "engine = create_engine(ENGINE_PATH)\n",
    "\n",
    "\n",
    "person_query = \"\"\"\n",
    "\n",
    "select *  \n",
    "       \n",
    "from Maximo.person \n",
    "\n",
    "\"\"\"\n",
    "\n",
    "\n",
    "\n",
    "#WHERE TRUNC(xrf_det.entrydate) >= sysdate - interval '1' year AND xrf_det.finalclassification = 'Positive' AND xrf_det.side != 'Calibrate' AND xrf_det.side != 'CALIBRATE'\n",
    "\n",
    "\n",
    "dp = pd.read_sql_query(person_query, engine)\n",
    "\n",
    "\n",
    "dp = dp[[\"personid\", \"status\", \"displayname\",\"firstname\",\"lastname\",\"department\",\"title\", \"zzhrtitle\"]]\n",
    "dp[\"personid\"] = dp[\"personid\"].astype(str).map(str.strip)\n",
    "dp = dp.rename(columns={'personid': 'laborcode'})\n",
    "\n",
    "print (\"DONE\")\n",
    "\n"
   ]
  },
  {
   "cell_type": "code",
   "execution_count": null,
   "id": "ab0b19ea",
   "metadata": {},
   "outputs": [],
   "source": [
    "#dp.dtypes"
   ]
  },
  {
   "cell_type": "code",
   "execution_count": null,
   "id": "42713e55",
   "metadata": {},
   "outputs": [],
   "source": [
    "print (str(datetime.datetime.today()) )\n",
    "\n",
    "pd.set_option('chained_assignment', None)\n",
    "\n",
    "#dp = dp[[\"PERSONID\", \"STATUS\", \"DISPLAYNAME\",\"FIRSTNAME\",\"LASTNAME\",\"DEPARTMENT\",\"TITLE\", \"PERSONUID\", \"ZZHRTITLE\"]]\n",
    "dp = dp[[\"laborcode\", \"displayname\",\"title\"]]\n",
    "dp[\"laborcode\"] = dp[\"laborcode\"].astype(str).map(str.strip)\n",
    "#dp = dp.rename(columns={'personid': 'laborcode'})\n",
    "dl[\"laborcode\"] = dl[\"laborcode\"].astype(str).map(str.strip)\n",
    "\n",
    "print (len(dl))\n",
    "dl2 = pd.merge(dl, dp, how='left', on=['laborcode'])\n",
    "print (len(dl2))\n",
    "\n",
    "print (\"display name null\")\n",
    "print (dl2[\"displayname\"].isnull().sum())\n"
   ]
  },
  {
   "cell_type": "markdown",
   "id": "a872f894",
   "metadata": {},
   "source": [
    "### Groupby Labor Transactions to merge with work orders"
   ]
  },
  {
   "cell_type": "code",
   "execution_count": null,
   "id": "f112bb65",
   "metadata": {},
   "outputs": [],
   "source": [
    "print (str(datetime.datetime.today()) )\n",
    "\n",
    "\n",
    "print (\"Groupby labor transactions to get names\")\n",
    "\n",
    "dl3 = dl2[[\"refwo\", \"displayname\"]]\n",
    "\n",
    "\n",
    "dl3[\"displayname\"] = dl3[\"displayname\"].astype(str) \n",
    "\n",
    "f = dl3.groupby('refwo')['displayname'].apply(lambda x: \"{%s}\" % ', '.join(x))\n",
    "\n",
    "\n",
    "\n",
    "X = pd.DataFrame(f)\n",
    "\n",
    "X = X.reset_index(drop=False)\n",
    "\n",
    "X['displayname'] = X['displayname'].str.replace('{', '')\n",
    "X['displayname'] = X['displayname'].str.replace('}', '')\n",
    "\n",
    "\n",
    "\n",
    "print (\"Subset to get only work order numbers in the work orders\")\n",
    "\n",
    "workordernumbers = sorted(list(set(df2[\"wonum\"].tolist() )))\n",
    "\n",
    "\n",
    "print (len(X))\n",
    "\n",
    "X = X[X['refwo'].isin(workordernumbers)]\n",
    "\n",
    "print (len(X))\n",
    "\n",
    "\n",
    "print (\"DONE\")"
   ]
  },
  {
   "cell_type": "code",
   "execution_count": null,
   "id": "6b430c43",
   "metadata": {},
   "outputs": [],
   "source": [
    "print (str(datetime.datetime.today()) )\n",
    "\n",
    "\n",
    "X = X.reset_index(drop=True)\n",
    "\n",
    "print (len(X))\n",
    "\n",
    "namelist = X[\"displayname\"].tolist()\n",
    "\n",
    "print (len(namelist))\n",
    "\n",
    "\n",
    "namelistsorted = []\n",
    "\n",
    "for i in range(0, len(namelist)):\n",
    "    #if i%10000 == 0:\n",
    "    #    print (i)\n",
    "    \n",
    "    a =  namelist[i]\n",
    "    #print (a)\n",
    "    a = a.split(\", \")\n",
    "    a = sorted(list(set(a)))\n",
    "    #a = sorted(a)\n",
    "    #print (a)\n",
    "    \n",
    "    a = str(a)\n",
    "    namelistsorted.append(a)\n",
    "    #print ()\n",
    "    #print (len(a))\n",
    "    \n",
    "    #X[\"displayname\"][i] = a\n",
    "\n",
    "    \n",
    "namelistsorteddf = pd.DataFrame(namelistsorted)\n",
    "\n",
    "print (len(X))\n",
    "print (len(namelistsorteddf))\n",
    "\n",
    "print (\"Merge with grouped labor transactions\")\n",
    "\n",
    "X = pd.concat([X, namelistsorteddf], axis=1)\n",
    "\n",
    "X[0] = X[0].str.replace('[', '')\n",
    "X[0] = X[0].str.replace(']', '')\n",
    "X[0] = X[0].str.replace(\"'\", \"\")\n",
    "\n",
    "X = X[[\"refwo\", 0]]\n",
    "X = X.rename(columns={0: 'displayname'})\n",
    "\n"
   ]
  },
  {
   "cell_type": "markdown",
   "id": "e6501a4b",
   "metadata": {},
   "source": [
    "### Insert into work order data"
   ]
  },
  {
   "cell_type": "code",
   "execution_count": null,
   "id": "98999c2f",
   "metadata": {},
   "outputs": [],
   "source": [
    "print (str(datetime.datetime.today()) )\n",
    "XDic = X.set_index('refwo')['displayname'].to_dict()\n",
    "df2[\"Emplpoyee Name\"] = df2[\"wonum\"].map(XDic)\n",
    "\n"
   ]
  },
  {
   "cell_type": "code",
   "execution_count": null,
   "id": "f2bff40d",
   "metadata": {},
   "outputs": [],
   "source": [
    "#df2.dtypes"
   ]
  },
  {
   "cell_type": "code",
   "execution_count": null,
   "id": "f64dfd7c",
   "metadata": {},
   "outputs": [],
   "source": [
    "#df3.to_csv(path + \"test.csv\")"
   ]
  },
  {
   "cell_type": "markdown",
   "id": "835a23ed",
   "metadata": {},
   "source": [
    "### Create a 70-120 string"
   ]
  },
  {
   "cell_type": "code",
   "execution_count": null,
   "id": "c64a4a5c",
   "metadata": {},
   "outputs": [],
   "source": [
    "df2 = df2.reset_index(drop=True)\n",
    "\n",
    "#df3"
   ]
  },
  {
   "cell_type": "code",
   "execution_count": null,
   "id": "74f6bd7b",
   "metadata": {},
   "outputs": [],
   "source": [
    "print (\"apt temp mean:\", df2[\"zzapttempread\"].mean() )\n",
    "print (\"apt temp median:\", df2[\"zzapttempread\"].median() )\n",
    "print (\"apt temp standard dev:\", df2[\"zzapttempread\"].std() )\n",
    "print (\"apt temp mode:\", df2[\"zzapttempread\"].mode() )\n",
    "\n",
    "print (\"water temp mean:\", df2[\"zzwattempread\"].mean() )\n",
    "print (\"water temp median:\", df2[\"zzwattempread\"].median() )\n",
    "print (\"water temp standard dev:\", df2[\"zzwattempread\"].std() )\n",
    "print (\"water temp mode:\", df2[\"zzwattempread\"].mode() )"
   ]
  },
  {
   "cell_type": "code",
   "execution_count": null,
   "id": "9ad46ecf",
   "metadata": {},
   "outputs": [],
   "source": [
    "#df2"
   ]
  },
  {
   "cell_type": "markdown",
   "id": "924edec2",
   "metadata": {},
   "source": [
    "### Count employees with 70-120 combo "
   ]
  },
  {
   "cell_type": "code",
   "execution_count": null,
   "id": "7e51b0ff",
   "metadata": {},
   "outputs": [],
   "source": [
    "df2[\"zzapttempread\"] = df2[\"zzapttempread\"].astype(str).map(str.strip)\n",
    "df2[\"zzapttempread\"]  = df2[\"zzapttempread\"] .str.split(\".\").str[0]\n",
    "\n",
    "df2[\"zzwattempread\"] = df2[\"zzwattempread\"].astype(str).map(str.strip)\n",
    "df2[\"zzwattempread\"]  = df2[\"zzwattempread\"].str.split(\".\").str[0]\n",
    "\n",
    "df2[\"AptWatTemp\"] = df2[\"zzapttempread\"] + \"_\" + df2[\"zzwattempread\"]"
   ]
  },
  {
   "cell_type": "code",
   "execution_count": null,
   "id": "1f6608d2",
   "metadata": {},
   "outputs": [],
   "source": [
    "df2count = df2[df2[\"AptWatTemp\"] == \"70_120\"].reset_index(drop=True)\n",
    "\n",
    "print (len(df2count))\n",
    "\n",
    "print (len(df2))"
   ]
  },
  {
   "cell_type": "markdown",
   "id": "5c4b4207",
   "metadata": {},
   "source": [
    "Create 70_120 Flag"
   ]
  },
  {
   "cell_type": "code",
   "execution_count": null,
   "id": "2adc434b",
   "metadata": {},
   "outputs": [],
   "source": [
    "#df2[\"70_120 Temp Combo\"] = \"\"\n",
    "\n",
    "print (str(datetime.datetime.today()) )\n",
    "\n",
    "\n",
    "tempcombolist = df2[\"AptWatTemp\"].tolist()\n",
    "print (len(tempcombolist))\n",
    "print (len(df2))\n",
    "\n",
    "templist = []\n",
    "\n",
    "for i in range(0, len(tempcombolist)):\n",
    "    if tempcombolist[i] == \"70_120\":\n",
    "        templist.append(1)\n",
    "    else:\n",
    "        templist.append(0)\n",
    "        \n",
    "print (len(templist))\n",
    "\n",
    "\n",
    "qn = pd.DataFrame(templist)\n",
    "\n",
    "print (len(qn))\n",
    "\n",
    "df2[\"70_120 Temp Combo\"] = qn\n"
   ]
  },
  {
   "cell_type": "markdown",
   "id": "3319796d",
   "metadata": {},
   "source": [
    "Export Bad Actors and Dates of 70-120"
   ]
  },
  {
   "cell_type": "code",
   "execution_count": null,
   "id": "0981c10c",
   "metadata": {},
   "outputs": [],
   "source": [
    "dfb = df2[[\"report_date\", \"Emplpoyee Name\", \"AptWatTemp\", \"70_120 Temp Combo\", \"Season\", \"haschildren\", \"failurecode\", \"problemcode\"]]\n",
    "#dfb.head(3)\n"
   ]
  },
  {
   "cell_type": "code",
   "execution_count": null,
   "id": "4427897b",
   "metadata": {},
   "outputs": [],
   "source": [
    "dfb.to_csv(path + \"Bad Actors Time Series.csv\", index=False)"
   ]
  },
  {
   "cell_type": "markdown",
   "id": "2f8ff06a",
   "metadata": {},
   "source": [
    "Calculate Mode"
   ]
  },
  {
   "cell_type": "code",
   "execution_count": null,
   "id": "10100e7e",
   "metadata": {},
   "outputs": [],
   "source": [
    "print (str(datetime.datetime.today()).split()[0] )\n",
    "\n",
    "\n",
    "qn = pd.DataFrame(columns=('Emplpoyee Name', 'Mode of Temp Combo', 'Count of Mode', 'Total Number of Work Orders'))\n",
    "\n",
    "names = sorted(list(set(dfb[\"Emplpoyee Name\"].tolist()  )))\n",
    "\n",
    "for i in range(0, len(names)):\n",
    "    n = names[i]\n",
    "    \n",
    "    dfb2 = dfb[dfb[\"Emplpoyee Name\"] == n].reset_index(drop=True)\n",
    "\n",
    "    #dfb2 = dfb2[dfb2[\"AptWatTemp\"] != \"nan_nan\"].reset_index(drop=True)\n",
    "    \n",
    "    dfb2[\"Count\"] = 1\n",
    "    \n",
    "    dfb3 = dfb2[[\"AptWatTemp\", \"Count\"]]\n",
    "    \n",
    "    dfb3G = dfb3.groupby(['AptWatTemp']).sum()\n",
    "    dfb3G = dfb3G.add_suffix('').reset_index()\n",
    "    dfb3G = dfb3G.sort_values(by = 'Count', ascending=False).reset_index(drop=True)\n",
    "    \n",
    "    qn.loc[i] = [n,dfb3G[\"AptWatTemp\"][0],dfb3G[\"Count\"][0], len(dfb2) ]\n",
    "\n",
    "    \n",
    "\n",
    "qn[\"Mode Relative Frequency\"] = qn[\"Count of Mode\"]/qn[\"Total Number of Work Orders\"]\n",
    "\n",
    "qn[\"Mode Relative Frequency\"] = qn[\"Mode Relative Frequency\"].astype(float)\n",
    "\n",
    "qn[\"Mode Relative Frequency\"] = qn[\"Mode Relative Frequency\"].round(2)\n",
    "\n",
    "print (\"DONE\")"
   ]
  },
  {
   "cell_type": "markdown",
   "id": "f9714b35",
   "metadata": {},
   "source": [
    "Create 70_120 Flag"
   ]
  },
  {
   "cell_type": "code",
   "execution_count": null,
   "id": "3fb9d33c",
   "metadata": {},
   "outputs": [],
   "source": [
    "qn[\"70_120 Flag\"] = \"No\"\n",
    "for i in range(0, len(qn)):\n",
    "    if qn[\"Mode of Temp Combo\"][i] == \"70_120\":\n",
    "        qn[\"70_120 Flag\"][i] = \"Yes\"\n",
    "        \n",
    "    "
   ]
  },
  {
   "cell_type": "code",
   "execution_count": null,
   "id": "6c78f9c8",
   "metadata": {},
   "outputs": [],
   "source": [
    "qn.to_csv(path + \"Modes of Temp Combo.csv\", index=False)"
   ]
  },
  {
   "cell_type": "code",
   "execution_count": null,
   "id": "35501db2",
   "metadata": {},
   "outputs": [],
   "source": [
    "#qn"
   ]
  },
  {
   "cell_type": "code",
   "execution_count": null,
   "id": "a75e54f3",
   "metadata": {},
   "outputs": [],
   "source": [
    "path"
   ]
  },
  {
   "cell_type": "code",
   "execution_count": null,
   "id": "4c70ac88",
   "metadata": {},
   "outputs": [],
   "source": [
    "\"\"\"\n",
    "df4c = df4[[\"Emplpoyee Name\"]]\n",
    "df4c[\"Count\"] = 1\n",
    "\n",
    "df4c[\"Emplpoyee Name\"] = df4c[\"Emplpoyee Name\"].astype(str)\n",
    "\n",
    "df4c = df4c.groupby(['Emplpoyee Name']).sum()\n",
    "df4c = df4c.add_suffix('').reset_index()\n",
    "\n",
    "df4c = df4c.sort_values(by = 'Count', ascending=False).reset_index(drop=True)\n",
    "\n",
    "\n",
    "\"\"\"\n"
   ]
  },
  {
   "cell_type": "code",
   "execution_count": null,
   "id": "9eaa950b",
   "metadata": {},
   "outputs": [],
   "source": [
    "#df4c.to_csv(path + \"Employee Names 70-120.csv\", index=False)"
   ]
  },
  {
   "cell_type": "markdown",
   "id": "56c4fc0d",
   "metadata": {},
   "source": [
    "### Count frequency of degree combinations"
   ]
  },
  {
   "cell_type": "code",
   "execution_count": null,
   "id": "ea6f8b4e",
   "metadata": {},
   "outputs": [],
   "source": [
    "dftemp = df2[[\"AptWatTemp\"]]\n",
    "dftemp[\"Count\"] = 1\n",
    "\n",
    "dftemp = dftemp.groupby(['AptWatTemp']).sum()\n",
    "\n",
    "dftemp = dftemp.add_suffix('').reset_index()\n",
    "\n",
    "dftemp = dftemp.sort_values(by = 'Count', ascending=False).reset_index(drop=True)\n",
    "\n",
    "dftemp[\"Percent\"] = dftemp[\"Count\"]/float(dftemp[\"Count\"].sum())\n",
    "\n",
    "dftemp[\"Percent\"] = (dftemp[\"Percent\"].round(3))*100"
   ]
  },
  {
   "cell_type": "code",
   "execution_count": null,
   "id": "30ab2aa6",
   "metadata": {},
   "outputs": [],
   "source": [
    "#df2.dtypes"
   ]
  },
  {
   "cell_type": "code",
   "execution_count": null,
   "id": "cd776af9",
   "metadata": {},
   "outputs": [],
   "source": [
    "dftemp.to_csv(path + \"Temperature Combo Counts.csv\", index=False)"
   ]
  },
  {
   "cell_type": "markdown",
   "id": "614966a8",
   "metadata": {},
   "source": [
    "### Insert development name"
   ]
  },
  {
   "cell_type": "code",
   "execution_count": null,
   "id": "f693b2fe",
   "metadata": {},
   "outputs": [],
   "source": [
    "print (str(datetime.datetime.today()).split()[0] )\n",
    "\n",
    "\n",
    "df2[\"location\"] = df2[\"location\"].astype(str)\n",
    "df2[\"tds\"] = df2[\"location\"].str.split(\".\").str[0]\n",
    "df2[\"tds\"] = df2[\"tds\"].map(str.strip)\n",
    "\n",
    "df2[\"tds\"] = df2[\"tds\"].astype(int)\n",
    "\n",
    "path2 = \"\"\n",
    "\n",
    "dv = pd.read_csv(path2 + \"zzdevelopments.csv\", low_memory=False)\n",
    "\n",
    "dvDic = dv.set_index('ZZDEVNUM')['DESCRIPTION'].to_dict()\n",
    "df2[\"Development\"] = df2[\"tds\"].map(dvDic)\n",
    "\n",
    "print (\"DONE\")"
   ]
  },
  {
   "cell_type": "code",
   "execution_count": null,
   "id": "bf0577c7",
   "metadata": {},
   "outputs": [],
   "source": [
    "#path = \"C:\\\\Users\\\\MehriD01\\\\Documents\\\\HPT Analysis\\\\\"\n",
    "\n",
    "#df2.to_csv(path + \"test.csv\", index=False)"
   ]
  },
  {
   "cell_type": "markdown",
   "id": "6010a3d6",
   "metadata": {},
   "source": [
    "### Insert building"
   ]
  },
  {
   "cell_type": "code",
   "execution_count": null,
   "id": "78bff64b",
   "metadata": {},
   "outputs": [],
   "source": [
    "#def buildingconvert(x):\n",
    "#    if len(x)==1:\n",
    "#        return \"0\" + x\n",
    "    \n",
    "#db[\"BLDGNO\"] = map(buildingconvert, db.BLDGNO)\n",
    "\n"
   ]
  },
  {
   "cell_type": "code",
   "execution_count": null,
   "id": "20a2eea7",
   "metadata": {},
   "outputs": [],
   "source": [
    "print (str(datetime.datetime.today()).split()[0] )\n",
    "\n",
    "\n",
    "path2 = \"\"\n",
    "\n",
    "db = pd.read_csv(path2 + \"zzbuildings.csv\", low_memory=False)\n",
    "\n",
    "db[\"BUILDING\"] = db[\"BUILDING\"].astype(str)\n",
    "db[\"BLDGNO\"] = db[\"BLDGNO\"].astype(str)\n",
    "\n",
    "db[\"TDS\"] = db[\"BUILDING\"].str.split(\".\").str[0]\n",
    "\n",
    "#convert 1 to 01\n",
    "for i in range(0, len(db)):\n",
    "    a = db[\"BLDGNO\"][i]\n",
    "    if len(a) == 1:\n",
    "        db[\"BLDGNO\"][i] = \"0\" + db[\"BLDGNO\"][i]\n",
    "\n",
    "db[\"Building\"] = db[\"TDS\"] + \".\" + db[\"BLDGNO\"]\n",
    "\n",
    "sitid = set(db[\"SITEID\"].tolist() )\n",
    "print(sitid)\n",
    "\n",
    "db[\"SITEID\"] = db[\"SITEID\"].str.replace('BK', 'BROOKYN')\n",
    "db[\"SITEID\"] = db[\"SITEID\"].str.replace('BX', 'BRONX')\n",
    "db[\"SITEID\"] = db[\"SITEID\"].str.replace('QS', 'QUEENS/STATEN ISLAND')\n",
    "db[\"SITEID\"] = db[\"SITEID\"].str.replace('MN', 'MANHATTAN')\n",
    "\n",
    "db[\"ADDRESS\"] = db[\"ADDRESS\"] + \", \" + db[\"SITEID\"]\n",
    "\n",
    "\n",
    "df2[\"Building No\"] = df2['location'].str.split(\".\").str[1]\n",
    "\n",
    "df2[\"tds\"] = df2[\"tds\"].astype(str)\n",
    "df2[\"Building\"] = df2[\"tds\"] + \".\" + df2[\"Building No\"]\n",
    "\n",
    "\n",
    "#dictionary to insert data\n",
    "dbDic = db.set_index('Building')['ADDRESS'].to_dict()\n",
    "\n",
    "df2[\"Building Address\"] = df2[\"Building\"].map(dbDic)\n",
    "\n",
    "print (\"DONE\")"
   ]
  },
  {
   "cell_type": "markdown",
   "id": "f83d92f0",
   "metadata": {},
   "source": [
    "Create Borough"
   ]
  },
  {
   "cell_type": "code",
   "execution_count": null,
   "id": "10e1661a",
   "metadata": {},
   "outputs": [],
   "source": [
    "print (str(datetime.datetime.today()).split()[0] )\n",
    "\n",
    "df2['Borough'] = df2['Building Address'].str.split(\",\").str[1]\n",
    "df2['Address'] = df2['Building Address'].str.split(\",\").str[0]\n",
    "\n",
    "df2['Borough'] = df2['Borough'].astype(str).map(str.strip)\n",
    "df2['Address'] = df2['Address'].astype(str).map(str.strip)\n",
    "\n"
   ]
  },
  {
   "cell_type": "markdown",
   "id": "205f5206",
   "metadata": {},
   "source": [
    "### Insert GIS Coords"
   ]
  },
  {
   "cell_type": "code",
   "execution_count": null,
   "id": "e4107cfa",
   "metadata": {},
   "outputs": [],
   "source": [
    "print (str(datetime.datetime.today()).split()[0] )\n",
    "\n",
    "\n",
    "dgis = pd.read_csv(path2 + \"nycha_loc_gps.csv\", low_memory=False)\n",
    "\n",
    "dgis[\"TDS_NUM\"] = dgis[\"TDS_NUM\"].astype(str)\n",
    "dgis[\"BLDG_NUM\"] = dgis[\"BLDG_NUM\"].astype(str)\n",
    "\n",
    "\n",
    "for i in range(0, len(dgis)):\n",
    "    a = dgis[\"BLDG_NUM\"][i]\n",
    "    if len(a) == 1:\n",
    "        dgis[\"BLDG_NUM\"][i] = \"0\" + dgis[\"BLDG_NUM\"][i]\n",
    "\n",
    "dgis[\"Building\"] = dgis[\"TDS_NUM\"] + \".\" + dgis[\"BLDG_NUM\"]\n",
    "\n",
    "\n",
    "lat = dgis.set_index('Building')['LATITUDE'].to_dict()\n",
    "df2[\"lat\"] = df2[\"Building\"].map(lat)\n",
    "\n",
    "lon = dgis.set_index('Building')['LONGITUDE'].to_dict()\n",
    "df2[\"lon\"] = df2[\"Building\"].map(lon)\n",
    "\n",
    "print (\"DONE\")\n"
   ]
  },
  {
   "cell_type": "markdown",
   "id": "7e72e336",
   "metadata": {},
   "source": [
    "### Count 70-120 temp combo by employee"
   ]
  },
  {
   "cell_type": "code",
   "execution_count": null,
   "id": "3252872b",
   "metadata": {},
   "outputs": [],
   "source": [
    "print (str(datetime.datetime.today()).split()[0] )\n",
    "\n",
    "\n",
    "df3 = df2[[\"Emplpoyee Name\", \"Season\", \"70_120 Temp Combo\"]]\n",
    "\n",
    "df3[\"Count\"] = 1\n",
    "\n",
    "df3 = df3.groupby([\"Emplpoyee Name\", \"Season\"]).sum()\n",
    "\n",
    "df3 = df3.add_suffix('').reset_index()\n",
    "\n",
    "df3[\"Count\"] = df3[\"Count\"].astype(float)\n",
    "\n",
    "#df3 = df3[df3[\"Count\"] > 20].reset_index(drop=True)\n",
    "\n",
    "df3[\"Percent\"] = df3[\"70_120 Temp Combo\"]/df3[\"Count\"]\n",
    "\n",
    "print (\"DONE\")"
   ]
  },
  {
   "cell_type": "code",
   "execution_count": null,
   "id": "b2422d01",
   "metadata": {},
   "outputs": [],
   "source": [
    "#df2.dtypes"
   ]
  },
  {
   "cell_type": "code",
   "execution_count": null,
   "id": "29bad937",
   "metadata": {},
   "outputs": [],
   "source": [
    "print (\"Output results\")\n",
    "\n",
    "df2.to_csv(path + \"HPT 70_120 Analysis 20_22 Seasons.csv\", index=False)\n",
    "\n",
    "df3.to_csv(path + \"Count 70-120 by Employee 20_22 Seasons.csv\", index=False)\n",
    "\n",
    "print (\"DONE\")"
   ]
  },
  {
   "cell_type": "code",
   "execution_count": null,
   "id": "aafd59d1",
   "metadata": {},
   "outputs": [],
   "source": []
  }
 ],
 "metadata": {
  "kernelspec": {
   "display_name": "Python 3 (ipykernel)",
   "language": "python",
   "name": "python3"
  },
  "language_info": {
   "codemirror_mode": {
    "name": "ipython",
    "version": 3
   },
   "file_extension": ".py",
   "mimetype": "text/x-python",
   "name": "python",
   "nbconvert_exporter": "python",
   "pygments_lexer": "ipython3",
   "version": "3.9.13"
  }
 },
 "nbformat": 4,
 "nbformat_minor": 5
}
